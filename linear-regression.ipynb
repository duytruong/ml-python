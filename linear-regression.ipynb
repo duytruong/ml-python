{
 "cells": [
  {
   "cell_type": "code",
   "execution_count": 2,
   "metadata": {},
   "outputs": [
    {
     "name": "stdout",
     "output_type": "stream",
     "text": [
      "Automatically created module for IPython interactive environment\n"
     ]
    }
   ],
   "source": [
    "print(__doc__)\n",
    "\n",
    "import matplotlib.pyplot as plt\n",
    "import numpy as np\n",
    "from sklearn import datasets, linear_model\n",
    "from sklearn.metrics import mean_squared_error, r2_score\n",
    "\n",
    "# Load the dataset\n",
    "cols = np.loadtxt('./data2.txt', delimiter=',', unpack=True)\n",
    "\n",
    "X = np.transpose(np.array(cols[:-1]))\n",
    "y = np.transpose(np.array(cols[-1:]))\n",
    "m = y.size # number of training examples\n",
    "#Insert the usual column of 1's into the \"X\" matrix\n",
    "X = np.insert(X,0,1,axis=1)\n",
    "\n",
    "# Plot the data to see what it looks like\n",
    "\n",
    "# plt.figure(figsize=(10,6))\n",
    "# plt.plot(X[:,1],y[:,0],'rx',markersize=10)\n",
    "# plt.grid(True) #Always plot.grid true!\n",
    "# plt.ylabel('Profit in 10^9 vnd')\n",
    "# plt.xlabel('Population in 10^6')\n",
    "\n",
    "plt.grid(True)\n",
    "plt.xlim([-100,5000])\n",
    "dummy = plt.hist(X[:,0],label = 'col 0 (column of 1)')\n",
    "dummy = plt.hist(X[:,1],label = 'col 1')\n",
    "dummy = plt.hist(X[:,2],label = 'col 2')\n",
    "plt.xlabel('Column Value')\n",
    "plt.ylabel('Counts')\n",
    "dummy = plt.legend()\n"
   ]
  },
  {
   "cell_type": "code",
   "execution_count": 3,
   "metadata": {},
   "outputs": [
    {
     "name": "stdout",
     "output_type": "stream",
     "text": [
      "range(0, 3)\n",
      "0\n",
      "1\n",
      "2\n",
      "[1.0, 2000.6808510638298, 3.1702127659574466]\n",
      "[0.0, 786.2026187430467, 0.7528428090618781]\n"
     ]
    },
    {
     "data": {
      "image/png": "[encoded data removed]",
      "text/plain": [
       "<Figure size 432x288 with 1 Axes>"
      ]
     },
     "metadata": {
      "needs_background": "light"
     },
     "output_type": "display_data"
    }
   ],
   "source": [
    "#Feature normalizing the columns (subtract mean, divide by standard deviation)\n",
    "#Store the mean and std for later use\n",
    "#Note don't modify the original X matrix, use a copy\n",
    "stored_feature_means, stored_feature_stds = [], []\n",
    "Xnorm = X.copy()\n",
    "print(range(Xnorm.shape[1]))\n",
    "for icol in range(Xnorm.shape[1]):\n",
    "    print(icol)\n",
    "    stored_feature_means.append(np.mean(Xnorm[:,icol]))\n",
    "    stored_feature_stds.append(np.std(Xnorm[:,icol]))\n",
    "    #Skip the first column\n",
    "    if not icol: continue\n",
    "    #Faster to not recompute the mean and std again, just used stored values\n",
    "    Xnorm[:,icol] = (Xnorm[:,icol] - stored_feature_means[-1])/stored_feature_stds[-1]\n",
    "print(stored_feature_means)\n",
    "print(stored_feature_stds)\n",
    "    \n",
    "plt.grid(True)\n",
    "plt.xlim([-5,5])\n",
    "dummy = plt.hist(Xnorm[:,0],label = 'col 0 (column of 1)')\n",
    "dummy = plt.hist(Xnorm[:,1],label = 'col 1')\n",
    "dummy = plt.hist(Xnorm[:,2],label = 'col 2')\n",
    "plt.xlabel('Column Value')\n",
    "plt.ylabel('Counts')\n",
    "dummy = plt.legend()"
   ]
  },
  {
   "cell_type": "code",
   "execution_count": 4,
   "metadata": {},
   "outputs": [
    {
     "name": "stdout",
     "output_type": "stream",
     "text": [
      "[[0.]\n",
      " [0.]\n",
      " [0.]]\n",
      "65591548106.45744\n"
     ]
    }
   ],
   "source": [
    "X_backup = X\n",
    "X = Xnorm\n",
    "\n",
    "def computeCost(theta, X, y, my_lambda = 0.0):\n",
    "    m = y.size\n",
    "    h = X.dot(theta) # (m x 2) * (2 x 1)\n",
    "    reg_term = my_lambda * np.sum(np.square(theta))\n",
    "    return (1/(2*m)) * (np.sum(np.square(h - y)) + reg_term)\n",
    "\n",
    "initial_theta = np.zeros((X.shape[1],1)) #(theta is a vector with n rows and 1 columns (if X has n features) )\n",
    "# initial_theta = np.array([[1.],[1.],[1.]])\n",
    "print(initial_theta)\n",
    "print(computeCost(initial_theta, X, y, 0.5))"
   ]
  },
  {
   "cell_type": "code",
   "execution_count": 5,
   "metadata": {},
   "outputs": [],
   "source": [
    "def gradientDescent(theta, X, y, alpha, num_ite, my_lambda = 0.0):\n",
    "    m = y.size\n",
    "    j_history = np.zeros(num_ite)\n",
    "    theta_history = []\n",
    "    for i in range(num_ite):\n",
    "        theta_history.append(list(theta[:,0]))\n",
    "        theta = theta - (alpha/m) * (X.T.dot(X.dot(theta) - y) + my_lambda * theta)\n",
    "        j_history[i] = computeCost(theta, X, y)\n",
    "    return theta, j_history, theta_history"
   ]
  },
  {
   "cell_type": "code",
   "execution_count": 6,
   "metadata": {},
   "outputs": [],
   "source": [
    "def plotConvergence(jvec):\n",
    "    plt.figure(figsize=(10,6))\n",
    "    plt.plot(range(len(jvec)),jvec,'b.')\n",
    "    plt.grid(True)\n",
    "    plt.title(\"Convergence of Cost Function\")\n",
    "    plt.xlabel(\"Iteration number\")\n",
    "    plt.ylabel(\"Cost function\")"
   ]
  },
  {
   "cell_type": "code",
   "execution_count": null,
   "metadata": {
    "scrolled": true
   },
   "outputs": [],
   "source": [
    "init_theta = np.zeros((X.shape[1], 1))\n",
    "theta, j_history, theta_history = gradientDescent(init_theta, X, y, 0.01, 400, 0.5)\n",
    "print('Theta: ', theta)\n",
    "\n",
    "new_sample = np.array([1650.0, 3.0])\n",
    "for idx in range(len(new_sample)):\n",
    "    new_sample[idx] = (new_sample[idx] - stored_feature_means[idx+1])/stored_feature_stds[idx+1]\n",
    "new_sample = np.insert(new_sample, 0, 1, axis=0)\n",
    "print('Price of house with 1650 square feet and 3 bedrooms: ', new_sample.dot(theta))\n",
    "plotConvergence(j_history)\n"
   ]
  },
  {
   "cell_type": "code",
   "execution_count": null,
   "metadata": {},
   "outputs": [],
   "source": [
    "# Visualizing J for univariate linear regression\n",
    "from mpl_toolkits.mplot3d import axes3d, Axes3D\n",
    "from matplotlib import cm\n",
    "import itertools\n",
    "\n",
    "fig = plt.figure(figsize=(12,12))\n",
    "ax = fig.gca(projection='3d')\n",
    "\n",
    "xvals = np.arange(-10,10,.5)\n",
    "yvals = np.arange(-1,4,.1)\n",
    "myxs, myys, myzs = [], [], []\n",
    "for xi in xvals:\n",
    "    for yi in yvals:\n",
    "        myxs.append(xi)\n",
    "        myys.append(yi)\n",
    "        myzs.append(computeCost(np.array([[xi], [yi]]),X,y))\n",
    "\n",
    "scat = ax.scatter(myxs,myys,myzs,c=np.abs(myzs),cmap=plt.get_cmap('Reds'))\n",
    "\n",
    "plt.xlabel(r'$\\theta_0$',fontsize=30)\n",
    "plt.ylabel(r'$\\theta_1$',fontsize=30)\n",
    "plt.title('Cost (Minimization Path Shown in Blue)',fontsize=30)\n",
    "plt.plot([x[0] for x in theta_history],[x[1] for x in theta_history],j_history,'bo-')\n",
    "plt.show()"
   ]
  },
  {
   "cell_type": "code",
   "execution_count": null,
   "metadata": {},
   "outputs": [],
   "source": []
  }
 ],
 "metadata": {
  "kernelspec": {
   "display_name": "Python 3",
   "language": "python",
   "name": "python3"
  },
  "language_info": {
   "codemirror_mode": {
    "name": "ipython",
    "version": 3
   },
   "file_extension": ".py",
   "mimetype": "text/x-python",
   "name": "python",
   "nbconvert_exporter": "python",
   "pygments_lexer": "ipython3",
   "version": "3.7.3"
  }
 },
 "nbformat": 4,
 "nbformat_minor": 2
}
